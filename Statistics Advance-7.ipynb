{
 "cells": [
  {
   "cell_type": "markdown",
   "id": "0fd93054-5c00-4fc6-b3e3-d0347e151267",
   "metadata": {},
   "source": [
    "### Q1. Python Function to Calculate F-Value and P-Value for a Variance Ratio Test\n",
    "```python\n",
    "from scipy import stats\n",
    "\n",
    "def variance_ratio_test(data1, data2):\n",
    "    f_value = np.var(data1, ddof=1) / np.var(data2, ddof=1)\n",
    "    dfn = len(data1) - 1  # degrees of freedom for numerator\n",
    "    dfd = len(data2) - 1  # degrees of freedom for denominator\n",
    "    p_value = 1 - stats.f.cdf(f_value, dfn, dfd)\n",
    "    return f_value, p_value\n"
   ]
  },
  {
   "cell_type": "markdown",
   "id": "cf1f6787-8af4-4565-8bda-0531716583d9",
   "metadata": {},
   "source": []
  },
  {
   "cell_type": "markdown",
   "id": "2916296d-5b6b-47ba-8edf-cba26a3fca55",
   "metadata": {},
   "source": [
    "### Q2. Given a significance level of 0.05 and the degrees of freedom for the numerator and denominator of an F-distribution, write a Python function that returns the critical F-value for a two-tailed test.\n",
    "\n",
    "```python\n",
    "from scipy.stats import f\n",
    "\n",
    "def critical_f_value(alpha, dfn, dfd):\n",
    "    return f.ppf(1 - alpha / 2, dfn, dfd)\n",
    "\n",
    "# Example usage:\n",
    "alpha = 0.05\n",
    "dfn = 5  # degrees of freedom for numerator\n",
    "dfd = 10  # degrees of freedom for denominator\n",
    "f_critical = critical_f_value(alpha, dfn, dfd)\n",
    "print(f\"Critical F-value: {f_critical}\")\n"
   ]
  },
  {
   "cell_type": "markdown",
   "id": "da1cc658-ccb5-4a6c-81c6-b8d3c577c53c",
   "metadata": {},
   "source": []
  },
  {
   "cell_type": "markdown",
   "id": "d862d381-1f5d-4aac-800a-4b75ccce840d",
   "metadata": {},
   "source": [
    "### Q3. Write a Python program that generates random samples from two normal distributions with known variances and uses an F-test to determine if the variances are equal. The program should output the F-value, degrees of freedom, and p-value for the test.\n",
    "\n",
    "```python\n",
    "import numpy as np\n",
    "from scipy import stats\n",
    "\n",
    "# Parameters\n",
    "n1, n2 = 30, 30  # sample sizes\n",
    "var1, var2 = 5, 10  # known variances\n",
    "\n",
    "# Generate random samples\n",
    "np.random.seed(42)\n",
    "sample1 = np.random.normal(0, np.sqrt(var1), n1)\n",
    "sample2 = np.random.normal(0, np.sqrt(var2), n2)\n",
    "\n",
    "# Perform F-test\n",
    "F = np.var(sample1, ddof=1) / np.var(sample2, ddof=1)\n",
    "dfn, dfd = n1 - 1, n2 - 1  # degrees of freedom\n",
    "p_value = 1 - stats.f.cdf(F, dfn, dfd)\n",
    "\n",
    "# Output\n",
    "print(f\"F-value: {F}\")\n",
    "print(f\"Degrees of freedom: {dfn}, {dfd}\")\n",
    "print(f\"P-value: {p_value}\")\n"
   ]
  },
  {
   "cell_type": "markdown",
   "id": "ad8d51ca-9328-45b5-a02e-6ce0fce8fee1",
   "metadata": {},
   "source": []
  },
  {
   "cell_type": "markdown",
   "id": "832b7c75-391b-4ed2-b9eb-af2ffd9aeb76",
   "metadata": {},
   "source": [
    "### Q4. The variances of two populations are known to be 10 and 15. A sample of 12 observations is taken from each population. Conduct an F-test at the 5% significance level to determine if the variances are significantly different.\n",
    "\n",
    "```python\n",
    "import scipy.stats as stats\n",
    "\n",
    "var1, var2 = 10, 15\n",
    "n1, n2 = 12, 12\n",
    "\n",
    "# F-test statistic\n",
    "F = var1 / var2\n",
    "dfn, dfd = n1 - 1, n2 - 1\n",
    "p_value = 2 * min(stats.f.cdf(F, dfn, dfd), 1 - stats.f.cdf(F, dfn, dfd))\n",
    "\n",
    "# Output\n",
    "alpha = 0.05\n",
    "if p_value < alpha:\n",
    "    result = \"Reject the null hypothesis (variances are significantly different)\"\n",
    "else:\n",
    "    result = \"Fail to reject the null hypothesis (no significant difference)\"\n",
    "    \n",
    "print(f\"F-value: {F}\")\n",
    "print(f\"Degrees of freedom: {dfn}, {dfd}\")\n",
    "print(f\"P-value: {p_value}\")\n",
    "print(f\"Conclusion: {result}\")\n"
   ]
  },
  {
   "cell_type": "markdown",
   "id": "a754cb83-152a-4e45-82bb-c335cecc53c7",
   "metadata": {},
   "source": []
  },
  {
   "cell_type": "markdown",
   "id": "a8eb5ad8-5267-40cf-af9d-2ac84ad0e0ff",
   "metadata": {},
   "source": [
    "### Q5. A manufacturer claims that the variance of the diameter of a certain product is 0.005. A sample of 25 products is taken, and the sample variance is found to be 0.006. Conduct an F-test at the 1% significance level to determine if the claim is justified.\n",
    "\n",
    "\n",
    "```python\n",
    "claimed_variance = 0.005\n",
    "sample_variance = 0.006\n",
    "n = 25\n",
    "\n",
    "# F-test statistic\n",
    "F = sample_variance / claimed_variance\n",
    "dfn, dfd = n - 1, n - 1\n",
    "p_value = 2 * min(stats.f.cdf(F, dfn, dfd), 1 - stats.f.cdf(F, dfn, dfd))\n",
    "\n",
    "# Output\n",
    "alpha = 0.01\n",
    "if p_value < alpha:\n",
    "    result = \"Reject the manufacturer's claim\"\n",
    "else:\n",
    "    result = \"Fail to reject the manufacturer's claim\"\n",
    "    \n",
    "print(f\"F-value: {F}\")\n",
    "print(f\"Degrees of freedom: {dfn}, {dfd}\")\n",
    "print(f\"P-value: {p_value}\")\n",
    "print(f\"Conclusion: {result}\")\n"
   ]
  },
  {
   "cell_type": "markdown",
   "id": "29adb45e-ba68-4fc2-8ed7-54728deb16b9",
   "metadata": {},
   "source": []
  },
  {
   "cell_type": "markdown",
   "id": "fa6fe7fd-49c2-44ed-9a76-d26701b2eab7",
   "metadata": {},
   "source": [
    "### Q6. Write a Python function that takes in the degrees of freedom for the numerator and denominator of an F-distribution and calculates the mean and variance of the distribution. The function should return the mean and variance as a tuple.\n",
    "\n",
    "```python\n",
    "def f_dist_mean_variance(dfn, dfd):\n",
    "    if dfd > 2:\n",
    "        mean = dfd / (dfd - 2)\n",
    "    else:\n",
    "        mean = None  # mean is undefined if dfd <= 2\n",
    "    \n",
    "    if dfd > 4:\n",
    "        variance = (2 * (dfd ** 2) * (dfn + dfd - 2)) / (dfn * (dfd - 2) ** 2 * (dfd - 4))\n",
    "    else:\n",
    "        variance = None  # variance is undefined if dfd <= 4\n",
    "    \n",
    "    return mean, variance\n",
    "\n",
    "# Example\n",
    "dfn, dfd = 10, 15\n",
    "mean, variance = f_dist_mean_variance(dfn, dfd)\n",
    "print(f\"Mean: {mean}\")\n",
    "print(f\"Variance: {variance}\")\n"
   ]
  },
  {
   "cell_type": "markdown",
   "id": "95aeda13-7469-4a47-b49d-428b4ef86e1f",
   "metadata": {},
   "source": []
  },
  {
   "cell_type": "markdown",
   "id": "52b3fd25-2bdd-41d5-92d5-b1c8e490e9a8",
   "metadata": {},
   "source": [
    "### Q7. A random sample of 10 measurements is taken from a normal population with unknown variance. The sample variance is found to be 25. Another random sample of 15 measurements is taken from another normal population with unknown variance, and the sample variance is found to be 20. Conduct an F-test at the 10% significance level to determine if the variances are significantly different.\n",
    "\n",
    "``` python\n",
    "var1, var2 = 25, 20\n",
    "n1, n2 = 10, 15\n",
    "\n",
    "# F-test statistic\n",
    "F = var1 / var2\n",
    "dfn, dfd = n1 - 1, n2 - 1\n",
    "p_value = 2 * min(stats.f.cdf(F, dfn, dfd), 1 - stats.f.cdf(F, dfn, dfd))\n",
    "\n",
    "# Output\n",
    "alpha = 0.10\n",
    "if p_value < alpha:\n",
    "    result = \"Reject the null hypothesis (variances are significantly different)\"\n",
    "else:\n",
    "    result = \"Fail to reject the null hypothesis (no significant difference)\"\n",
    "    \n",
    "print(f\"F-value: {F}\")\n",
    "print(f\"Degrees of freedom: {dfn}, {dfd}\")\n",
    "print(f\"P-value: {p_value}\")\n",
    "print(f\"Conclusion: {result}\")\n"
   ]
  },
  {
   "cell_type": "markdown",
   "id": "79051b59-3654-4f6d-9fe1-1a9d80f7f420",
   "metadata": {},
   "source": []
  },
  {
   "cell_type": "markdown",
   "id": "b9d95444-dd37-4f97-b0df-28f4806e265c",
   "metadata": {},
   "source": [
    "### Q8. The following data represent the waiting times in minutes at two different restaurants on a Saturday night: Restaurant A: 24, 25, 28, 23, 22, 20, 27; Restaurant B: 31, 33, 35, 30, 32, 36. Conduct an F-test at the 5% significance level to determine if the variances are significantly different.\n",
    "\n",
    "``` python\n",
    "restaurant_A = [24, 25, 28, 23, 22, 20, 27]\n",
    "restaurant_B = [31, 33, 35, 30, 32, 36]\n",
    "\n",
    "var_A = np.var(restaurant_A, ddof=1)\n",
    "var_B = np.var(restaurant_B, ddof=1)\n",
    "n_A, n_B = len(restaurant_A), len(restaurant_B)\n",
    "\n",
    "# F-test statistic\n",
    "F = var_A / var_B\n",
    "dfn, dfd = n_A - 1, n_B - 1\n",
    "p_value = 2 * min(stats.f.cdf(F, dfn, dfd), 1 - stats.f.cdf(F, dfn, dfd))\n",
    "\n",
    "# Output\n",
    "alpha = 0.05\n",
    "if p_value < alpha:\n",
    "    result = \"Reject the null hypothesis (variances are significantly different)\"\n",
    "else:\n",
    "    result = \"Fail to reject the null hypothesis (no significant difference)\"\n",
    "    \n",
    "print(f\"F-value: {F}\")\n",
    "print(f\"Degrees of freedom: {dfn}, {dfd}\")\n",
    "print(f\"P-value: {p_value}\")\n",
    "print(f\"Conclusion: {result}\")\n"
   ]
  },
  {
   "cell_type": "markdown",
   "id": "dd92ad86-cc13-4381-a3d5-7c6ec29713ba",
   "metadata": {},
   "source": []
  },
  {
   "cell_type": "markdown",
   "id": "e6546678-4dbb-4690-a30e-486e4c0f5caa",
   "metadata": {},
   "source": [
    "### Q9. The following data represent the test scores of two groups of students: Group A: 80, 85, 90, 92, 87, 83; Group B: 75, 78, 82, 79, 81, 84. Conduct an F-test at the 1% significance level to determine if the variances are significantly different.\n",
    "\n",
    "\n",
    "```python\n",
    "group_A = [80, 85, 90, 92, 87, 83]\n",
    "group_B = [75, 78, 82, 79, 81, 84]\n",
    "\n",
    "var_A = np.var(group_A, ddof=1)\n",
    "var_B = np.var(group_B, ddof=1)\n",
    "n_A, n_B = len(group_A), len(group_B)\n",
    "\n",
    "# F-test statistic\n",
    "F = var_A / var_B\n",
    "dfn, dfd = n_A - 1, n_B - 1\n",
    "p_value = 2 * min(stats.f.cdf(F, dfn, dfd), 1 - stats.f.cdf(F, dfn, dfd))\n",
    "\n",
    "# Output\n",
    "alpha = 0.01\n",
    "if p_value < alpha:\n",
    "    result = \"Reject the null hypothesis (variances are significantly different)\"\n",
    "else:\n",
    "    result = \"Fail to reject the null hypothesis (no significant difference)\"\n",
    "    \n",
    "print(f\"F-value: {F}\")\n",
    "print(f\"Degrees of freedom: {dfn}, {dfd}\")\n",
    "print(f\"P-value: {p_value}\")\n",
    "print(f\"Conclusion: {result}\")\n"
   ]
  },
  {
   "cell_type": "markdown",
   "id": "bb5debaf-fa6b-404d-b0c6-b83856af92f2",
   "metadata": {},
   "source": []
  },
  {
   "cell_type": "markdown",
   "id": "62354ea9-730b-42e8-b673-dbde128fc16b",
   "metadata": {},
   "source": []
  }
 ],
 "metadata": {
  "kernelspec": {
   "display_name": "Python 3 (ipykernel)",
   "language": "python",
   "name": "python3"
  },
  "language_info": {
   "codemirror_mode": {
    "name": "ipython",
    "version": 3
   },
   "file_extension": ".py",
   "mimetype": "text/x-python",
   "name": "python",
   "nbconvert_exporter": "python",
   "pygments_lexer": "ipython3",
   "version": "3.12.5"
  }
 },
 "nbformat": 4,
 "nbformat_minor": 5
}
